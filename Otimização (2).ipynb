{
 "cells": [
  {
   "cell_type": "code",
   "execution_count": 1,
   "metadata": {},
   "outputs": [],
   "source": [
    "from __future__ import division\n",
    "import math\n",
    "import matplotlib.pyplot as plt\n",
    "import numpy as np\n",
    "import seaborn as sns\n",
    "import random\n",
    "from matplotlib.legend_handler import HandlerLine2D\n",
    "import cmath\n",
    "import time"
   ]
  },
  {
   "cell_type": "code",
   "execution_count": 2,
   "metadata": {},
   "outputs": [],
   "source": [
    "def p(x):\n",
    "    return x[1]*(1-x[0])*(1+x[1])*x[0]"
   ]
  },
  {
   "cell_type": "code",
   "execution_count": 3,
   "metadata": {},
   "outputs": [
    {
     "data": {
      "text/plain": [
       "11.512925464970616"
      ]
     },
     "execution_count": 3,
     "metadata": {},
     "output_type": "execute_result"
    }
   ],
   "source": [
    "-math.log(p(np.array([0.5,-0.5])) + 0.06251)"
   ]
  },
  {
   "cell_type": "code",
   "execution_count": 4,
   "metadata": {},
   "outputs": [],
   "source": [
    "def f(x):\n",
    "    return -math.log(p(x))"
   ]
  },
  {
   "cell_type": "code",
   "execution_count": 5,
   "metadata": {},
   "outputs": [],
   "source": [
    "def f_Clean(x):\n",
    "    if p(x) <= 0:\n",
    "        return 0\n",
    "    else:    \n",
    "        return -math.log(p(x))"
   ]
  },
  {
   "cell_type": "code",
   "execution_count": 6,
   "metadata": {},
   "outputs": [],
   "source": [
    "def f_Extended2(x):\n",
    "    return -cmath.log(p(x)).real"
   ]
  },
  {
   "cell_type": "code",
   "execution_count": 11,
   "metadata": {},
   "outputs": [
    {
     "data": {
      "text/plain": [
       "(-2.921143416562918-3.141592653589793j)"
      ]
     },
     "execution_count": 11,
     "metadata": {},
     "output_type": "execute_result"
    }
   ],
   "source": [
    "-cmath.log(p(np.array([-4.5,0.5])))"
   ]
  },
  {
   "cell_type": "markdown",
   "metadata": {},
   "source": [
    "y*(1-x)*(1+y)*x = (y+y^2)*(x-x^2)\n",
    "\n",
    "f1 = (x-x^2) --> Positivo quando  0 < x < 1; Else Negativo;\n",
    "f2 = (y+y^2) --> Negativo quando -1 < y < 0; Else Positivo;\n",
    "\n",
    "Quadrantes de f1*f2\n",
    "\n",
    "sinal fator1\n",
    "sinal fator2\n",
    "(sinal resultante f1*f2)"
   ]
  },
  {
   "cell_type": "code",
   "execution_count": 882,
   "metadata": {},
   "outputs": [],
   "source": [
    "#       y\n",
    "#  f1-  |  f1+  |  f1-    \n",
    "#  f2+  |  f2+  |  f2+    \n",
    "#  (-)  |  (+)  |  (-)  \n",
    "# ----(0,0)---(1,0)-----x\n",
    "#  f1-  |  f1+  |  f1-    \n",
    "#  f2-  |  f2-  |  f2-   \n",
    "#  (+)  |  (-)  |  (+)\n",
    "# ----(0,-1)--(1,-1)----\n",
    "#  f1-  |  f1+  |  f1-   \n",
    "#  f2+  |  f2+  |  f2+   \n",
    "#  (-)  |  (+)  |  (-)  "
   ]
  },
  {
   "cell_type": "markdown",
   "metadata": {},
   "source": [
    "https://www.wolframalpha.com/input/?i=y%281-x%29%281%2By%29x\n",
    "\n",
    "Importante perceber que se um dos termos for = 0, o resultado pode ser 0, e não o dado pelo seu quadrante.\n",
    "\n",
    "Importante lembrar que a função é -ln(f1*f2), porém ln(+) = + e ln(-) = indef, logo a região viável é apenas\n",
    "os quadrantes 2,4,6 e 8. \n",
    "\n",
    "https://www.wolframalpha.com/input/?i=-ln%28y%281-x%29%281%2By%29x%29\n",
    "\n",
    "(No grafico eles continuam analiticamente a função log para fora do domínio normal, provavelmente com um Branch Cut e considerando a parte real, assim como o a função log da biblioteca cmath)\n",
    "\n",
    "http://mathworld.wolfram.com/BranchCut.html\n",
    "\n",
    "\n",
    "Como o quadrante 5 se encontra rodeado de regiões positivas, é provável que nele se encontre um mínimo local bem\n",
    "comportado.\n",
    "\n",
    "9 quadrantes\n"
   ]
  },
  {
   "cell_type": "markdown",
   "metadata": {},
   "source": [
    "Gradiente"
   ]
  },
  {
   "cell_type": "markdown",
   "metadata": {},
   "source": [
    "É importante garantir que a sequência x^k realmente converge para um ótimo, o que deve ocorrer em certos quadrantes,\n",
    "como observamos no estudo.\n",
    "Come¸camos com um ponto inicial x e depois geramos uma sequencia\n",
    "x_k ⊂ R^n na qual a função objetivo decresce."
   ]
  },
  {
   "cell_type": "markdown",
   "metadata": {},
   "source": [
    "Derivadas da função objetivo"
   ]
  },
  {
   "cell_type": "code",
   "execution_count": 12,
   "metadata": {},
   "outputs": [],
   "source": [
    "def df(x):\n",
    "    return np.array([df_x(x),df_y(x)])"
   ]
  },
  {
   "cell_type": "code",
   "execution_count": 13,
   "metadata": {},
   "outputs": [],
   "source": [
    "def df_x(x): \n",
    "    return (1-2*x[0])/(x[0]-1)*x[0]"
   ]
  },
  {
   "cell_type": "code",
   "execution_count": 14,
   "metadata": {},
   "outputs": [],
   "source": [
    "def df_y(x):\n",
    "    return - (2*x[1] + 1)/(x[1]**2 +x[1])"
   ]
  },
  {
   "cell_type": "markdown",
   "metadata": {},
   "source": [
    "Algoritmo de Descida pelo Gradiente"
   ]
  },
  {
   "cell_type": "code",
   "execution_count": 15,
   "metadata": {},
   "outputs": [],
   "source": [
    "def descGradiente2(x,t,eps,max_iters,comCheckViavel):\n",
    "    steps = np.array([[x[0],x[1]]])\n",
    "    \n",
    "    if(comCheckViavel):\n",
    "        if p(x) <= 0:\n",
    "            print(\"Ponto Inicial fora da zona viável\")\n",
    "            return steps\n",
    "        \n",
    "    for _i in range(max_iters):\n",
    "        x_k = np.copy(x)\n",
    "        \n",
    "        x = np.subtract(x_k,t * df(x_k))\n",
    "        \n",
    "        steps = np.append(steps, [x], axis=0)\n",
    "                \n",
    "        if(comCheckViavel):\n",
    "            if p(x) <= 0:\n",
    "                print(\"Saiu da zona viável\")\n",
    "                break\n",
    "            \n",
    "        if abs(np.sum(np.absolute(np.subtract(x,x_k)))) <= eps: #Check passo muito pequeno (chegando perto do gradiente zero)\n",
    "            print(\"Minimum at \", x)\n",
    "            break  \n",
    "        if np.absolute(x).any() > 2: # Para não ir muito longe < max_iters\n",
    "            print(\"Fugiu\")\n",
    "            break\n",
    "    return steps"
   ]
  },
  {
   "cell_type": "code",
   "execution_count": 16,
   "metadata": {},
   "outputs": [
    {
     "name": "stdout",
     "output_type": "stream",
     "text": [
      "Minimum at  [ 0.5 -0.5]\n",
      "0.1301734447479248\n"
     ]
    },
    {
     "data": {
      "text/plain": [
       "[<matplotlib.lines.Line2D at 0x19e9a813860>]"
      ]
     },
     "execution_count": 16,
     "metadata": {},
     "output_type": "execute_result"
    },
    {
     "data": {
      "image/png": "[encoded data removed]",
      "text/plain": [
       "<Figure size 432x288 with 1 Axes>"
      ]
     },
     "metadata": {
      "needs_background": "light"
     },
     "output_type": "display_data"
    }
   ],
   "source": [
    "x = [0.3,-0.1] # Ponto Inicial\n",
    "t = 0.01  # Tamanho do Paso\n",
    "eps = 0.0000000000001  # Precisão\n",
    "max_iters = 100000  # Máx iterações\n",
    "\n",
    "t0 = time.time()\n",
    "steps = descGradiente2(x,t,eps,max_iters,False)\n",
    "tf = time.time()\n",
    "\n",
    "print(tf-t0)\n",
    "\n",
    "sns.scatterplot(x=np.transpose(steps)[0],y=np.transpose(steps)[1])\n",
    "\n",
    "plt.plot((0,0),(1,-2), linewidth=2)\n",
    "plt.plot((1,1),(1,-2), linewidth=2)\n",
    "plt.plot((2,-1),(0,0), linewidth=2)\n",
    "plt.plot((2,-1),(-1,-1), linewidth=2)"
   ]
  },
  {
   "cell_type": "code",
   "execution_count": 17,
   "metadata": {},
   "outputs": [],
   "source": [
    "def descGradiente(x,t,eps,max_iters,comCheckViavel):\n",
    "    steps_x = []\n",
    "    steps_y = []\n",
    "    steps_x.append(x[0])\n",
    "    steps_y.append(x[1])\n",
    "\n",
    "    if(comCheckViavel):\n",
    "        if p(x) <= 0:\n",
    "            print(\"Ponto Inicial fora da zona viável\")\n",
    "            return steps_x,steps_y\n",
    "        \n",
    "    for _i in range(max_iters):\n",
    "        x_k = x.copy()\n",
    "        \n",
    "        x[0] = x_k[0] - t * df_x(x_k)\n",
    "        x[1] = x_k[1] - t * df_y(x_k)\n",
    "        \n",
    "        steps_x.append(x[0])\n",
    "        steps_y.append(x[1])\n",
    "        \n",
    "        if(comCheckViavel):\n",
    "            if p(x) <= 0:\n",
    "                print(\"Saiu da zona viável\")\n",
    "                break\n",
    "            \n",
    "        step = np.sum(np.absolute(np.subtract(x,x_k)))\n",
    "        if abs(step) <= eps: #Check passo muito pequeno (chegando perto do gradiente zero)\n",
    "            print(\"Minimum at \", x)\n",
    "            break  \n",
    "        if abs(x[0] - steps_x[0]) > 2 or abs(x[1] - steps_y[0]) > 2: # Para não ir muito longe < max_iters\n",
    "            print(\"Fugiu\")\n",
    "            break\n",
    "    return steps_x, steps_y"
   ]
  },
  {
   "cell_type": "markdown",
   "metadata": {},
   "source": [
    "Gradiente com ponto inicial nos 9 quadrantes, com e sem considerar a região viável"
   ]
  },
  {
   "cell_type": "code",
   "execution_count": 18,
   "metadata": {},
   "outputs": [
    {
     "name": "stdout",
     "output_type": "stream",
     "text": [
      "Fugiu\n",
      "Fugiu\n",
      "Fugiu\n",
      "Fugiu\n",
      "Minimum at  [0.5000000000048289, -0.49999999999999967]\n",
      "Fugiu\n",
      "Fugiu\n",
      "Fugiu\n",
      "Fugiu\n"
     ]
    },
    {
     "data": {
      "text/plain": [
       "[<matplotlib.lines.Line2D at 0x19e9b962ba8>]"
      ]
     },
     "execution_count": 18,
     "metadata": {},
     "output_type": "execute_result"
    },
    {
     "data": {
      "image/png": "[encoded data removed]",
      "text/plain": [
       "<Figure size 432x432 with 3 Axes>"
      ]
     },
     "metadata": {
      "needs_background": "light"
     },
     "output_type": "display_data"
    }
   ],
   "source": [
    "offset = np.random.rand(1,18)\n",
    "\n",
    "steps_x1,steps_y1 = descGradiente([-0.5 + offset[0][0]/4,0.5+ offset[0][1]/4],t,eps,max_iters,False)\n",
    "steps_x2,steps_y2 = descGradiente([-0.5 + offset[0][2]/4,-0.5 + offset[0][3]/4],t,eps,max_iters,False)\n",
    "steps_x3,steps_y3 = descGradiente([-0.5 + offset[0][4]/4,-1.5 + offset[0][5]/4],t,eps,max_iters,False)\n",
    "\n",
    "steps_x4,steps_y4 = descGradiente([0.5 + offset[0][6]/4,0.5 + offset[0][7]/4],t,eps,max_iters,False)\n",
    "steps_x5,steps_y5 = descGradiente([0.5 + offset[0][8]/4,-0.5 + offset[0][9]/4],t,eps,max_iters,False)\n",
    "steps_x6,steps_y6 = descGradiente([0.5 + offset[0][10]/4,-1.5 + offset[0][11]/4],t,eps,max_iters,False)\n",
    "\n",
    "steps_x7,steps_y7 = descGradiente([1.5 + offset[0][12]/4,0.5 + offset[0][13]/4],t,eps,max_iters,False)\n",
    "steps_x8,steps_y8 = descGradiente([1.5 + offset[0][14]/4,-0.5 + offset[0][15]/4],t,eps,max_iters,False)\n",
    "steps_x9,steps_y9 = descGradiente([1.5 + offset[0][16]/4,-1.5 + offset[0][17]/4],t,eps,max_iters,False)\n",
    "\n",
    "fullstepsx = np.concatenate((steps_x1,steps_x2,steps_x3,steps_x4,steps_x5,steps_x6,steps_x7,steps_x8,steps_x9))\n",
    "fullstepsy = np.concatenate((steps_y1,steps_y2,steps_y3,steps_y4,steps_y5,steps_y6,steps_y7,steps_y8,steps_y9))\n",
    "sct = sns.JointGrid(fullstepsx,fullstepsy)\n",
    "sct.plot_joint(plt.scatter)\n",
    "plt.plot((0,0),(1,-2), linewidth=2)\n",
    "plt.plot((1,1),(1,-2), linewidth=2)\n",
    "plt.plot((2,-1),(0,0), linewidth=2)\n",
    "plt.plot((2,-1),(-1,-1), linewidth=2)"
   ]
  },
  {
   "cell_type": "code",
   "execution_count": 19,
   "metadata": {},
   "outputs": [
    {
     "name": "stdout",
     "output_type": "stream",
     "text": [
      "Ponto Inicial fora da zona viável\n",
      "Fugiu\n",
      "Ponto Inicial fora da zona viável\n",
      "Fugiu\n",
      "Ponto Inicial fora da zona viável\n",
      "Fugiu\n",
      "Ponto Inicial fora da zona viável\n",
      "Fugiu\n",
      "Ponto Inicial fora da zona viável\n"
     ]
    },
    {
     "data": {
      "text/plain": [
       "[<matplotlib.lines.Line2D at 0x19e9ba544e0>]"
      ]
     },
     "execution_count": 19,
     "metadata": {},
     "output_type": "execute_result"
    },
    {
     "data": {
      "image/png": "[encoded data removed]",
      "text/plain": [
       "<Figure size 432x432 with 3 Axes>"
      ]
     },
     "metadata": {
      "needs_background": "light"
     },
     "output_type": "display_data"
    }
   ],
   "source": [
    "offset = np.random.rand(1,18)\n",
    "\n",
    "steps_x1,steps_y1 = descGradiente([-0.5 + offset[0][0]/4,0.5+ offset[0][1]/4],t,eps,max_iters,True)\n",
    "steps_x2,steps_y2 = descGradiente([-0.5 + offset[0][2]/4,-0.5 + offset[0][3]/4],t,eps,max_iters,True)\n",
    "steps_x3,steps_y3 = descGradiente([-0.5 + offset[0][4]/4,-1.5 + offset[0][5]/4],t,eps,max_iters,True)\n",
    "\n",
    "steps_x4,steps_y4 = descGradiente([0.5 + offset[0][6]/4,0.5 + offset[0][7]/4],t,eps,max_iters,True)\n",
    "steps_x5,steps_y5 = descGradiente([0.5 + offset[0][8]/4,-0.5 + offset[0][9]/4],t,eps,max_iters,True)\n",
    "steps_x6,steps_y6 = descGradiente([0.5 + offset[0][10]/4,-1.5 + offset[0][11]/4],t,eps,max_iters,True)\n",
    "\n",
    "steps_x7,steps_y7 = descGradiente([1.5 + offset[0][12]/4,0.5 + offset[0][13]/4],t,eps,max_iters,True)\n",
    "steps_x8,steps_y8 = descGradiente([1.5 + offset[0][14]/4,-0.5 + offset[0][15]/4],t,eps,max_iters,True)\n",
    "steps_x9,steps_y9 = descGradiente([1.5 + offset[0][16]/4,-1.5 + offset[0][17]/4],t,eps,max_iters,True)\n",
    "\n",
    "fullstepsx = np.concatenate((steps_x1,steps_x2,steps_x3,steps_x4,steps_x5,steps_x6,steps_x7,steps_x8,steps_x9))\n",
    "fullstepsy = np.concatenate((steps_y1,steps_y2,steps_y3,steps_y4,steps_y5,steps_y6,steps_y7,steps_y8,steps_y9))\n",
    "sct = sns.JointGrid(fullstepsx,fullstepsy)\n",
    "sct.plot_joint(plt.scatter)\n",
    "plt.plot((0,0),(1,-2), linewidth=2)\n",
    "plt.plot((1,1),(1,-2), linewidth=2)\n",
    "plt.plot((2,-1),(0,0), linewidth=2)\n",
    "plt.plot((2,-1),(-1,-1), linewidth=2)"
   ]
  },
  {
   "cell_type": "markdown",
   "metadata": {},
   "source": [
    "Metodo da Secao Aurea"
   ]
  },
  {
   "cell_type": "code",
   "execution_count": 20,
   "metadata": {},
   "outputs": [],
   "source": [
    "# Golden-section search \n",
    "def GSS(eps, p, ponto,d):\n",
    "    phi = (3.0 - math.sqrt(5.0))/2.0\n",
    "    a = 0.00001\n",
    "    s = p\n",
    "    b = 2*p\n",
    "    \n",
    "    while f_Extended2(ponto - b*d) < f_Extended2(ponto - s*d):\n",
    "        a = s\n",
    "        s = b\n",
    "        b = 2*b\n",
    "\n",
    "        u = a + phi*(b-a)\n",
    "        v = a + (1-phi)*(b-a)\n",
    "    \n",
    "    it = 1\n",
    "    while np.sum(np.absolute(np.subtract(u,v))) > eps:\n",
    "#         print('----')\n",
    "#         print('a',a)\n",
    "#         print('u',u)\n",
    "#         print('v',v)\n",
    "#         print('b',b)\n",
    "        \n",
    "#         print(str(f_Extended(ponto - u*df(ponto))) + ' < ' + str(f_Extended(ponto - v*df(ponto))) + ' ?')\n",
    "        if f_Extended2(ponto - u*d) < f_Extended2(ponto - v*d):\n",
    "            b = v\n",
    "            v = u\n",
    "            u = a + phi*(b-a)\n",
    "\n",
    "        else:\n",
    "            a = u\n",
    "            u = v\n",
    "            v = a + (1-phi)*(b-a)\n",
    "        \n",
    "        it += 1\n",
    "        \n",
    "#     print('u: ',u)\n",
    "#     print('v: ',v)\n",
    "#     print('Seção Áurea: ' + str(it) + ' iterações')\n",
    "    return (u + v)/2"
   ]
  },
  {
   "cell_type": "code",
   "execution_count": 21,
   "metadata": {
    "scrolled": true
   },
   "outputs": [
    {
     "data": {
      "text/plain": [
       "0.191951348501388"
      ]
     },
     "execution_count": 21,
     "metadata": {},
     "output_type": "execute_result"
    }
   ],
   "source": [
    "GSS(0.001,0.05,np.array([0.34,-0.43]),df(np.array([0.34,-0.43])))"
   ]
  },
  {
   "cell_type": "markdown",
   "metadata": {},
   "source": [
    "Método do Armijo"
   ]
  },
  {
   "cell_type": "code",
   "execution_count": 27,
   "metadata": {},
   "outputs": [],
   "source": [
    "def armijo2(N,gamma,ponto,d):\n",
    "    it = 1\n",
    "    t = 0.6\n",
    "    while f_Extended2(ponto - t * d) > f_Extended2(ponto) - (N * t * np.dot(df(ponto).T, d)):\n",
    "        t = t * gamma\n",
    "        it += 1\n",
    "#         print(t)\n",
    "#     print('Busca Armijo: ' + str(it) + ' iterações')\n",
    "    return t"
   ]
  },
  {
   "cell_type": "code",
   "execution_count": 23,
   "metadata": {},
   "outputs": [
    {
     "name": "stdout",
     "output_type": "stream",
     "text": [
      "0.198\n",
      "0.06534000000000001\n",
      "0.021562200000000004\n",
      "0.007115526000000001\n",
      "Busca Armijo: 5 iterações\n"
     ]
    },
    {
     "data": {
      "text/plain": [
       "0.007115526000000001"
      ]
     },
     "execution_count": 23,
     "metadata": {},
     "output_type": "execute_result"
    }
   ],
   "source": [
    "armijo2(0.95,0.33,np.array([0.48,-0.56]),df(np.array([0.48,-0.56])))"
   ]
  },
  {
   "cell_type": "code",
   "execution_count": 25,
   "metadata": {},
   "outputs": [],
   "source": [
    "def descGradienteComBuscaPasso(x,eps,max_iters,comCheckViavel,busca):\n",
    "    steps = np.array([[x[0],x[1]]])\n",
    "    if(comCheckViavel):\n",
    "        if p(x) <= 0:\n",
    "            print(\"Ponto Inicial fora da zona viável\")\n",
    "            return steps\n",
    "        \n",
    "    for _i in range(max_iters):\n",
    "        x_k = np.copy(x)\n",
    "        \n",
    "        if busca == 'aurea':\n",
    "            t = GSS(0.001,0.005,x_k,df(x_k))\n",
    "        if busca == 'armijo':\n",
    "            t = armijo2(0.9,0.5,x_k,df(x_k))\n",
    "            \n",
    "        x = np.subtract(x_k, t * df(x_k) )\n",
    "#         print('x',x)\n",
    "        steps = np.append(steps, [x], axis=0)\n",
    "                \n",
    "        if(comCheckViavel):\n",
    "            if p(x) <= 0:\n",
    "                print(\"Saiu da zona viável\")\n",
    "                break\n",
    "        if abs(np.sum(np.absolute(np.subtract(x,x_k)))) <= eps: #Check passo muito pequeno (chegando perto do gradiente zero)\n",
    "            print(\"Minimum at \", x)\n",
    "            break  \n",
    "#         if not (all(abs(i) <= 2 for i in x)): # Para não ir muito longe < max_iters\n",
    "#             print(\"Fugiu\")\n",
    "#             break\n",
    "    return steps"
   ]
  },
  {
   "cell_type": "code",
   "execution_count": 28,
   "metadata": {},
   "outputs": [
    {
     "name": "stdout",
     "output_type": "stream",
     "text": [
      "Minimum at  [ 0.49999882 -0.5000021 ]\n",
      "[[ 0.1        -0.4       ]\n",
      " [ 0.11333333 -0.525     ]\n",
      " [ 0.1726416  -0.40469925]\n",
      " [ 0.19313418 -0.52337138]\n",
      " [ 0.28127713 -0.4109431 ]\n",
      " [ 0.30695674 -0.52131281]\n",
      " [ 0.409558   -0.41882513]\n",
      " [ 0.41426311 -0.44383683]\n",
      " [ 0.42335874 -0.47796534]\n",
      " [ 0.45711985 -0.53095143]\n",
      " [ 0.46253579 -0.51230914]\n",
      " [ 0.47220817 -0.49752922]\n",
      " [ 0.50204614 -0.50938927]\n",
      " [ 0.50196878 -0.50798038]\n",
      " [ 0.50189436 -0.50678302]\n",
      " [ 0.50182278 -0.50576538]\n",
      " [ 0.50175393 -0.50490046]\n",
      " [ 0.50168769 -0.50416532]\n",
      " [ 0.50162398 -0.50354048]\n",
      " [ 0.50156268 -0.50300938]\n",
      " [ 0.50150371 -0.50255796]\n",
      " [ 0.50139025 -0.50179055]\n",
      " [ 0.5012854  -0.50125338]\n",
      " [ 0.5011885  -0.50087736]\n",
      " [ 0.50100938 -0.50035094]\n",
      " [ 0.50070534 -0.49992981]\n",
      " [ 0.49985654 -0.50026672]\n",
      " [ 0.49986729 -0.5001867 ]\n",
      " [ 0.49987724 -0.50013069]\n",
      " [ 0.49988644 -0.50009148]\n",
      " [ 0.49990347 -0.50003659]\n",
      " [ 0.49993242 -0.49999268]\n",
      " [ 0.50001349 -0.50002781]\n",
      " [ 0.50001299 -0.50002364]\n",
      " [ 0.50001201 -0.50001655]\n",
      " [ 0.50001111 -0.50001158]\n",
      " [ 0.50001028 -0.50000811]\n",
      " [ 0.50000874 -0.50000324]\n",
      " [ 0.50000612 -0.49999935]\n",
      " [ 0.49999878 -0.50000246]\n",
      " [ 0.49999882 -0.5000021 ]]\n"
     ]
    },
    {
     "data": {
      "text/plain": [
       "[<matplotlib.lines.Line2D at 0x19e9bb1f710>]"
      ]
     },
     "execution_count": 28,
     "metadata": {},
     "output_type": "execute_result"
    },
    {
     "data": {
      "image/png": "[encoded data removed]",
      "text/plain": [
       "<Figure size 432x288 with 1 Axes>"
      ]
     },
     "metadata": {
      "needs_background": "light"
     },
     "output_type": "display_data"
    }
   ],
   "source": [
    "x = [0.1,-0.4] # Ponto Inicial\n",
    "eps = 0.000001  # Precisão\n",
    "max_iters = 1000  # Máx iterações\n",
    "\n",
    "steps = descGradienteComBuscaPasso(x,eps,max_iters,False,'armijo')\n",
    "print(steps)\n",
    "\n",
    "sns.scatterplot(x=np.transpose(steps)[0],y=np.transpose(steps)[1])\n",
    "\n",
    "plt.plot((0,0),(0.2,-1.2), linewidth=2)\n",
    "plt.plot((1,1),(0.2,-1.2), linewidth=2)\n",
    "plt.plot((1.2,-0.2),(0,0), linewidth=2)\n",
    "plt.plot((1.2,-0.2),(-1,-1), linewidth=2)"
   ]
  },
  {
   "cell_type": "markdown",
   "metadata": {},
   "source": [
    "Algoritmo de Newton"
   ]
  },
  {
   "cell_type": "markdown",
   "metadata": {},
   "source": [
    "Hessiana de f(x)\n",
    "https://www4f.wolframalpha.com/Calculate/MSP/MSP579823d8di5i52ig4275000057708810dh4a24b9?MSPStoreType=image/gif&s=6"
   ]
  },
  {
   "cell_type": "code",
   "execution_count": 29,
   "metadata": {},
   "outputs": [],
   "source": [
    "def Hp(x):\n",
    "    H11 = -2*x[1]*(x[1]+1)\n",
    "    H12 = (1-x[0])*x[1]-x[0]*x[1]+(1-x[0])*(x[1]+1)-x[0]*(x[1]+1)\n",
    "    H21 = (1-x[0])*x[1]-x[0]*x[1]+(1-x[0])*(x[1]+1)-x[0]*(x[1]+1)\n",
    "    H22 = -2*(1-x[0])*x[0]\n",
    "    return np.array([[H11,H12],[H21,H22]])"
   ]
  },
  {
   "cell_type": "code",
   "execution_count": 30,
   "metadata": {},
   "outputs": [],
   "source": [
    "def Hf(x):\n",
    "    H11 = ((1 - x[0])*x[1]*(x[1] + 1) - x[0]*x[1]*(x[1] + 1))**2/((1 - x[0])**2*x[0]**2*x[1]**2*(x[1] + 1)**2) + 2/((1 - x[0])*x[0])\n",
    "    H12 = (((1 - x[0])*x[0]*x[1] + (1 - x[0])*x[0]*(x[1] + 1))*((1 - x[0])*x[1]*(x[1] + 1) - x[0]*x[1]*(x[1] + 1)))/((1 - x[0])**2*x[0]**2*x[1]**2*(x[1] + 1)**2) - ((1 - x[0])*x[1] - x[0]*x[1] + (1 - x[0])*(x[1] + 1) - x[0]*(x[1] + 1))/((1 - x[0])*x[0]*x[1]*(x[1] + 1))\n",
    "    H21 = (((1 - x[0])*x[0]*x[1] + (1 - x[0])*x[0]*(x[1] + 1))*((1 - x[0])*x[1]*(x[1] + 1) - x[0]*x[1]*(x[1] + 1)))/((1 - x[0])**2*x[0]**2*x[1]**2*(x[1] + 1)**2) - ((1 - x[0])*x[1] - x[0]*x[1] + (1 - x[0])*(x[1] + 1) - x[0]*(x[1] + 1))/((1 - x[0])*x[0]*x[1]*(x[1] + 1))\n",
    "    H22 = ((1 - x[0])*x[0]*x[1] + (1 - x[0])*x[0]*(x[1] + 1))**2/((1 - x[0])**2*x[0]**2*x[1]**2*(x[1] + 1)**2) - 2/(x[1]*(x[1] + 1))\n",
    "    return np.array([[H11,H12],[H21,H22]]) "
   ]
  },
  {
   "cell_type": "code",
   "execution_count": 31,
   "metadata": {},
   "outputs": [
    {
     "data": {
      "text/plain": [
       "array([[25.69444444,  0.        ],\n",
       "       [ 0.        ,  6.76020408]])"
      ]
     },
     "execution_count": 31,
     "metadata": {},
     "output_type": "execute_result"
    }
   ],
   "source": [
    "Hf([1.2,0.4])"
   ]
  },
  {
   "cell_type": "code",
   "execution_count": 32,
   "metadata": {},
   "outputs": [],
   "source": [
    "def NewtonComBuscaPasso(x,eps,max_iters,comCheckViavel,busca):\n",
    "    steps = np.array([[x[0],x[1]]])\n",
    "    if(comCheckViavel):\n",
    "        if p(x) <= 0:\n",
    "            print(\"Ponto Inicial fora da zona viável\")\n",
    "            return steps\n",
    "        \n",
    "    for _i in range(max_iters):\n",
    "        x_k = np.copy(x)\n",
    "        if busca == 'aurea':\n",
    "            t = GSS(0.001,0.2,x_k,df(x_k))\n",
    "        if busca == 'armijo':\n",
    "            t = armijo2(0.9,0.5,x_k,df(x_k))\n",
    "        \n",
    "        x = np.subtract(x_k,t * np.dot(np.linalg.inv(Hf(x_k)),df(x_k)))\n",
    "\n",
    "        steps = np.append(steps, [x], axis=0)\n",
    "                \n",
    "        if(comCheckViavel):\n",
    "            if p(x) <= 0:\n",
    "                print(\"Saiu da zona viável\")\n",
    "                break\n",
    "        if abs(np.sum(np.absolute(np.subtract(x,x_k)))) <= eps: #Check passo muito pequeno (chegando perto do gradiente zero)\n",
    "            print(\"Minimum at \", x)\n",
    "            break  \n",
    "        if not (all(abs(i) <= 2 for i in x)): # Para não ir muito longe < max_iters\n",
    "            print(\"Fugiu\")\n",
    "            break\n",
    "    return steps"
   ]
  },
  {
   "cell_type": "code",
   "execution_count": 33,
   "metadata": {},
   "outputs": [
    {
     "name": "stdout",
     "output_type": "stream",
     "text": [
      "Minimum at  [ 0.5 -0.5]\n",
      "len steps 273\n"
     ]
    },
    {
     "data": {
      "text/plain": [
       "[<matplotlib.lines.Line2D at 0x19e9bb8c940>]"
      ]
     },
     "execution_count": 33,
     "metadata": {},
     "output_type": "execute_result"
    },
    {
     "data": {
      "image/png": "[encoded data removed]",
      "text/plain": [
       "<Figure size 432x288 with 1 Axes>"
      ]
     },
     "metadata": {
      "needs_background": "light"
     },
     "output_type": "display_data"
    }
   ],
   "source": [
    "x = [0.6,-0.2] # Ponto Inicial\n",
    "eps = 0.00000000001  # Precisão\n",
    "max_iters = 100000  # Máx iterações\n",
    "\n",
    "steps = NewtonComBuscaPasso(x,eps,max_iters,False,'armijo')\n",
    "print('len steps',len(steps))\n",
    "# for i in steps:\n",
    "#     print(i)\n",
    "sns.scatterplot(x=np.transpose(steps)[0],y=np.transpose(steps)[1])\n",
    "\n",
    "plt.plot((0,0),(0.2,-1.2), linewidth=2)\n",
    "plt.plot((1,1),(0.2,-1.2), linewidth=2)\n",
    "plt.plot((1.2,-0.2),(0,0), linewidth=2)\n",
    "plt.plot((1.2,-0.2),(-1,-1), linewidth=2)"
   ]
  },
  {
   "cell_type": "markdown",
   "metadata": {},
   "source": [
    "Algoritmo de Quase Newton"
   ]
  },
  {
   "cell_type": "code",
   "execution_count": 34,
   "metadata": {},
   "outputs": [],
   "source": [
    "def QuaseNewtonComBuscaPasso(x,eps,max_iters,comCheckViavel,metodo,busca):\n",
    "    steps = np.array([[x[0],x[1]]])\n",
    "    if(comCheckViavel):\n",
    "        if p(x) <= 0:\n",
    "            print(\"Ponto Inicial fora da zona viável\")\n",
    "            return steps\n",
    "    H_k = np.array([[1,0],[0,1]])\n",
    "    for _i in range(max_iters):\n",
    "        x_k = np.copy(x)\n",
    "        if busca == 'aurea':\n",
    "            t = GSS(0.001,0.005,x_k,df(x_k))\n",
    "        if busca == 'armijo':\n",
    "            t = armijo2(0.9,0.5,x_k,df(x_k))\n",
    "        x = np.subtract(x_k,t * np.dot(H_k,df(x_k)))\n",
    "        steps = np.append(steps, [x], axis=0)\n",
    "\n",
    "        p = np.array([np.subtract(x,x_k)])\n",
    "        q = np.array([np.subtract(df(x),df(x_k))])\n",
    "        p = p.T\n",
    "        q = q.T\n",
    "        \n",
    "        if metodo == 'DFP' :\n",
    "            if np.absolute(np.dot(np.dot(q.T,H_k),q)) == 0 or np.absolute(np.dot(p.T,q))==0:\n",
    "                print('Zero no denominador H_k')\n",
    "                break\n",
    "            H_k = np.add(H_k,np.subtract(np.dot(p,p.T)/np.dot(p.T,q),np.dot(np.dot(np.dot(H_k,q),q.T),H_k)/np.dot(np.dot(q.T,H_k),q)))\n",
    "#             print('H_k',H_k)\n",
    "        if metodo == 'BFGS' :\n",
    "            a = (1 + np.dot(np.dot(q.T,H_k),q)/np.dot(p.T,q))*(np.dot(p,p.T)/np.dot(p.T,q))\n",
    "            b = np.add(np.dot(np.dot(p,q.T),H_k),np.dot(np.dot(H_k,q),p.T))/np.dot(p.T,q)\n",
    "            H_k = np.subtract(np.add(H_k,a),b)\n",
    "            \n",
    "        if(comCheckViavel):\n",
    "            if p(x) <= 0:\n",
    "                print(\"Saiu da zona viável\")\n",
    "                break\n",
    "                \n",
    "        if abs(np.sum(np.absolute(np.subtract(x,x_k)))) <= eps: #Check passo muito pequeno (chegando perto do gradiente zero)\n",
    "            print(\"Minimum at \", x)\n",
    "            break  \n",
    "        if not (all(abs(i) <= 2 for i in x)): # Para não ir muito longe < max_iters\n",
    "            print(\"Fugiu\")\n",
    "            break\n",
    "    return steps"
   ]
  },
  {
   "cell_type": "code",
   "execution_count": 35,
   "metadata": {},
   "outputs": [
    {
     "name": "stdout",
     "output_type": "stream",
     "text": [
      "(1, 2)\n",
      "(2, 1)\n"
     ]
    },
    {
     "data": {
      "text/plain": [
       "array([[ 1.59022693e-04,  1.07308254e-02],\n",
       "       [-1.07308254e-02, -7.24114354e-01]])"
      ]
     },
     "execution_count": 35,
     "metadata": {},
     "output_type": "execute_result"
    }
   ],
   "source": [
    "# np.dot(np.array([-0.01261042,-0.85094909]),np.array([[-0.01261042],[0.85094909]]))\n",
    "a = np.array([[-0.01261042,-0.85094909]])\n",
    "b = np.array([[-0.01261042],[0.85094909]])\n",
    "print(a.shape)\n",
    "print(b.shape)\n",
    "np.dot(b,a)"
   ]
  },
  {
   "cell_type": "code",
   "execution_count": 36,
   "metadata": {},
   "outputs": [
    {
     "name": "stdout",
     "output_type": "stream",
     "text": [
      "Minimum at  [ 0.49999999 -0.49999994]\n",
      "len steps 102\n",
      "[ 0.03229835 -0.67585343]\n",
      "[ 0.03693309 -0.43752598]\n",
      "[ 0.05066318 -0.46102516]\n",
      "[ 0.11381438 -0.49395849]\n",
      "[ 0.72700098 -0.70507764]\n",
      "[ 0.6541272  -0.67960009]\n",
      "[ 0.64233114 -0.66927611]\n",
      "[ 0.62864692 -0.65419645]\n",
      "[ 0.61653037 -0.63898446]\n",
      "[ 0.60544187 -0.62400824]\n",
      "[ 0.59530707 -0.60977386]\n",
      "[ 0.58591955 -0.5963628 ]\n",
      "[ 0.57730269 -0.58403489]\n",
      "[ 0.56933192 -0.5727473 ]\n",
      "[ 0.56204396 -0.56262488]\n",
      "[ 0.55542794 -0.55367877]\n",
      "[ 0.54935179 -0.54572781]\n",
      "[ 0.54383738 -0.53877963]\n",
      "[ 0.53884385 -0.53274638]\n",
      "[ 0.53429742 -0.5274972 ]\n",
      "[ 0.53017408 -0.52296118]\n",
      "[ 0.52644876 -0.51906629]\n",
      "[ 0.52308105 -0.51572735]\n",
      "[ 0.52004357 -0.51287729]\n",
      "[ 0.5173265  -0.51046921]\n",
      "[ 0.51487567 -0.50842134]\n",
      "[ 0.512698   -0.50670926]\n",
      "[ 0.5107443  -0.50526722]\n",
      "[ 0.50901154 -0.50406968]\n",
      "[ 0.50747783 -0.50308041]\n",
      "[ 0.50612038 -0.50226659]\n",
      "[ 0.50493119 -0.50160763]\n",
      "[ 0.50389199 -0.50107942]\n",
      "[ 0.50298296 -0.50066021]\n",
      "[ 0.50218832 -0.50033339]\n",
      "[ 0.5015068 -0.5000907]\n",
      "[ 0.50095702 -0.49993086]\n",
      "[ 0.50062688 -0.49986268]\n",
      "[ 0.50046824 -0.49984554]\n",
      "[ 0.50036433 -0.49984388]\n",
      "[ 0.5002863  -0.49984915]\n",
      "[ 0.50022545 -0.49985804]\n",
      "[ 0.50017736 -0.49986874]\n",
      "[ 0.50013951 -0.49988007]\n",
      "[ 0.50010937 -0.49989146]\n",
      "[ 0.50008576 -0.49990234]\n",
      "[ 0.50006708 -0.49991258]\n",
      "[ 0.50005224 -0.49992213]\n",
      "[ 0.50004056 -0.49993084]\n",
      "[ 0.50003134 -0.49993877]\n",
      "[ 0.50002407 -0.49994594]\n",
      "[ 0.50001842 -0.49995232]\n",
      "[ 0.50001403 -0.49995798]\n",
      "[ 0.50001059 -0.49996304]\n",
      "[ 0.50000793 -0.4999675 ]\n",
      "[ 0.50000586 -0.49997146]\n",
      "[ 0.50000427 -0.49997497]\n",
      "[ 0.50000307 -0.49997802]\n",
      "[ 0.50000215 -0.49998071]\n",
      "[ 0.50000146 -0.49998308]\n",
      "[ 0.50000093 -0.49998517]\n",
      "[ 0.50000055 -0.49998701]\n",
      "[ 0.50000026 -0.49998862]\n",
      "[ 0.50000006 -0.49999003]\n",
      "[ 0.49999991 -0.49999127]\n",
      "[ 0.49999982 -0.49999236]\n",
      "[ 0.49999975 -0.49999331]\n",
      "[ 0.49999972 -0.49999414]\n",
      "[ 0.4999997  -0.49999487]\n",
      "[ 0.49999969 -0.49999551]\n",
      "[ 0.4999997  -0.49999607]\n",
      "[ 0.49999971 -0.49999656]\n",
      "[ 0.49999972 -0.49999699]\n",
      "[ 0.49999974 -0.49999737]\n",
      "[ 0.49999976 -0.4999977 ]\n",
      "[ 0.49999978 -0.49999799]\n",
      "[ 0.4999998  -0.49999824]\n",
      "[ 0.49999982 -0.49999846]\n",
      "[ 0.49999983 -0.49999865]\n",
      "[ 0.49999985 -0.49999882]\n",
      "[ 0.49999987 -0.49999897]\n",
      "[ 0.49999988 -0.4999991 ]\n",
      "[ 0.49999989 -0.49999921]\n",
      "[ 0.4999999  -0.49999931]\n",
      "[ 0.49999991 -0.4999994 ]\n",
      "[ 0.49999992 -0.49999947]\n",
      "[ 0.49999993 -0.49999954]\n",
      "[ 0.49999994 -0.4999996 ]\n",
      "[ 0.49999995 -0.49999965]\n",
      "[ 0.49999995 -0.49999969]\n",
      "[ 0.49999996 -0.49999973]\n",
      "[ 0.49999996 -0.49999977]\n",
      "[ 0.49999997 -0.4999998 ]\n",
      "[ 0.49999997 -0.49999982]\n",
      "[ 0.49999998 -0.49999985]\n",
      "[ 0.49999998 -0.49999987]\n",
      "[ 0.49999998 -0.49999988]\n",
      "[ 0.49999998 -0.4999999 ]\n",
      "[ 0.49999999 -0.49999991]\n",
      "[ 0.49999999 -0.49999992]\n",
      "[ 0.49999999 -0.49999993]\n",
      "[ 0.49999999 -0.49999994]\n"
     ]
    },
    {
     "data": {
      "text/plain": [
       "[<matplotlib.lines.Line2D at 0x19e9bc0ac50>]"
      ]
     },
     "execution_count": 36,
     "metadata": {},
     "output_type": "execute_result"
    },
    {
     "data": {
      "image/png": "[encoded data removed]",
      "text/plain": [
       "<Figure size 432x288 with 1 Axes>"
      ]
     },
     "metadata": {
      "needs_background": "light"
     },
     "output_type": "display_data"
    }
   ],
   "source": [
    "eps = 0.00000001  # Precisão\n",
    "max_iters = 100000  # Máx iterações\n",
    "\n",
    "steps = QuaseNewtonComBuscaPasso(np.array([ 0.03229835,-0.67585343]),eps,max_iters,False,'DFP','aurea')\n",
    "print('len steps',len(steps))\n",
    "for i in steps:\n",
    "    print(i)\n",
    "sns.scatterplot(x=np.transpose(steps)[0],y=np.transpose(steps)[1])\n",
    "\n",
    "plt.plot((0,0),(1,-2), linewidth=2)\n",
    "plt.plot((1,1),(1,-2), linewidth=2)\n",
    "plt.plot((2,-1),(0,0), linewidth=2)\n",
    "plt.plot((2,-1),(-1,-1), linewidth=2)"
   ]
  },
  {
   "cell_type": "markdown",
   "metadata": {},
   "source": [
    "Gerador de Ponto no quadrante central"
   ]
  },
  {
   "cell_type": "code",
   "execution_count": 41,
   "metadata": {
    "scrolled": true
   },
   "outputs": [
    {
     "name": "stdout",
     "output_type": "stream",
     "text": [
      "[ 0.49386468 -0.25301062]\n"
     ]
    }
   ],
   "source": [
    "x = np.array([random.uniform(0,0.5),random.uniform(-0.5,0)])\n",
    "eps = 0.000000001\n",
    "max_iters = 10000\n",
    "print(x)"
   ]
  },
  {
   "cell_type": "markdown",
   "metadata": {},
   "source": [
    "Gerador de Ponto Uniforme"
   ]
  },
  {
   "cell_type": "code",
   "execution_count": 38,
   "metadata": {},
   "outputs": [
    {
     "name": "stdout",
     "output_type": "stream",
     "text": [
      "[-0.33546963 -0.64349893]\n"
     ]
    }
   ],
   "source": [
    "x = np.array([random.uniform(-1,2),random.uniform(-2,1)])\n",
    "eps = 0.000000001\n",
    "max_iters = 10000\n",
    "print(x)"
   ]
  },
  {
   "cell_type": "markdown",
   "metadata": {},
   "source": [
    "Timer"
   ]
  },
  {
   "cell_type": "code",
   "execution_count": 42,
   "metadata": {},
   "outputs": [
    {
     "name": "stdout",
     "output_type": "stream",
     "text": [
      "Minimum at  [ 0.49999995 -0.5       ]\n"
     ]
    }
   ],
   "source": [
    "t0 = time.time()\n",
    "steps = descGradiente2(x,0.01,eps,max_iters,False)\n",
    "tf = time.time()"
   ]
  },
  {
   "cell_type": "markdown",
   "metadata": {},
   "source": [
    "Resultados"
   ]
  },
  {
   "cell_type": "code",
   "execution_count": 43,
   "metadata": {},
   "outputs": [
    {
     "name": "stdout",
     "output_type": "stream",
     "text": [
      "x_0  [ 0.49386468 -0.25301062]\n",
      "iter  584\n",
      "x_k  [ 0.49999995 -0.5       ]\n",
      "f(x_k) 0\n",
      "f+(x_k) 2.7725887222397905\n",
      "0.0672607421875 segundos.\n"
     ]
    },
    {
     "data": {
      "text/plain": [
       "[<matplotlib.lines.Line2D at 0x19e9bce7f28>]"
      ]
     },
     "execution_count": 43,
     "metadata": {},
     "output_type": "execute_result"
    },
    {
     "data": {
      "image/png": "[encoded data removed]",
      "text/plain": [
       "<Figure size 432x288 with 1 Axes>"
      ]
     },
     "metadata": {
      "needs_background": "light"
     },
     "output_type": "display_data"
    }
   ],
   "source": [
    "print('x_0 ',steps[0])\n",
    "print('iter ',len(steps))\n",
    "print('x_k ',steps[-1])\n",
    "print('f(x_k)',f_Clean(steps[-1]))\n",
    "print('f+(x_k)',f_Extended2(steps[-1]))\n",
    "print(str(tf-t0) + ' segundos.')\n",
    "\n",
    "sns.scatterplot(x=np.transpose(steps)[0],y=np.transpose(steps)[1])\n",
    "plt.plot((0,0),(1,-2), linewidth=2)\n",
    "plt.plot((1,1),(1,-2), linewidth=2)\n",
    "plt.plot((2,-1),(0,0), linewidth=2)\n",
    "plt.plot((2,-1),(-1,-1), linewidth=2)"
   ]
  },
  {
   "cell_type": "code",
   "execution_count": null,
   "metadata": {},
   "outputs": [],
   "source": []
  }
 ],
 "metadata": {
  "kernelspec": {
   "display_name": "Python 3",
   "language": "python",
   "name": "python3"
  },
  "language_info": {
   "codemirror_mode": {
    "name": "ipython",
    "version": 3
   },
   "file_extension": ".py",
   "mimetype": "text/x-python",
   "name": "python",
   "nbconvert_exporter": "python",
   "pygments_lexer": "ipython3",
   "version": "3.6.6"
  }
 },
 "nbformat": 4,
 "nbformat_minor": 2
}
